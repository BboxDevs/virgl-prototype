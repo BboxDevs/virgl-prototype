{
 "cells": [
  {
   "attachments": {},
   "cell_type": "markdown",
   "id": "479a9372",
   "metadata": {},
   "source": [
    "**Resumes**\n",
    "\n",
    "Sorry for downloading your resume. I need it for testing"
   ]
  },
  {
   "cell_type": "code",
   "execution_count": null,
   "id": "4813fdef",
   "metadata": {},
   "outputs": [],
   "source": [
    "resume = \"./resumes/cw-resume-jv1.pdf\""
   ]
  },
  {
   "cell_type": "code",
   "execution_count": null,
   "id": "8548b20c",
   "metadata": {},
   "outputs": [],
   "source": [
    "resume = \"./resumes/Jerick-Iquin.pdf\""
   ]
  },
  {
   "cell_type": "code",
   "execution_count": null,
   "id": "b1477247",
   "metadata": {},
   "outputs": [],
   "source": [
    "resume = \"./resumes/Kenneth Lee Resume.pdf\""
   ]
  },
  {
   "cell_type": "code",
   "execution_count": null,
   "id": "88b523ed",
   "metadata": {},
   "outputs": [],
   "source": [
    "resume = \"./resumes/Justin Lam - Resume - vPortfolio.pdf\""
   ]
  },
  {
   "attachments": {},
   "cell_type": "markdown",
   "id": "b43855dd",
   "metadata": {},
   "source": [
    "**Using pdfminer.six**\n",
    "\n",
    "- Probably will use. Best so far"
   ]
  },
  {
   "cell_type": "code",
   "execution_count": null,
   "id": "d8e94bb4",
   "metadata": {},
   "outputs": [],
   "source": [
    "from pdfminer.high_level import extract_text, extract_pages\n",
    "from pdfminer.layout import LAParams\n",
    "\n",
    "laparams = LAParams(line_margin=1)"
   ]
  },
  {
   "cell_type": "code",
   "execution_count": null,
   "id": "eb59e279",
   "metadata": {},
   "outputs": [],
   "source": [
    "# extract pages outputs an iterable so we can create list from it\n",
    "pages = [x for x in extract_pages(resume)]\n",
    "\n",
    "for page in range(len(pages)):\n",
    "    print('page_number', page)\n",
    "    text = extract_text(resume, page_numbers=page, laparams=laparams)\n",
    "    print(text)"
   ]
  },
  {
   "attachments": {},
   "cell_type": "markdown",
   "id": "a37ae6ff",
   "metadata": {},
   "source": [
    "**Testing Beautiful Soup**\n",
    "\n",
    "This is to do webscraping of your linkedin profile\n",
    "\n",
    "- Linkedin detects automated scraping and blocks requests\n",
    "- Need to install chrome and chromedriver"
   ]
  },
  {
   "cell_type": "code",
   "execution_count": 300,
   "id": "bec03a79",
   "metadata": {},
   "outputs": [],
   "source": [
    "from selenium import webdriver\n",
    "from selenium.webdriver.chrome.options import Options\n",
    "from selenium.webdriver.common.by import By\n",
    "from bs4 import BeautifulSoup\n",
    "import time\n",
    "\n",
    "def scrape_linkedin_profile(url):\n",
    "    options = Options()\n",
    "    # running in headless mode\n",
    "    options.add_argument('--headless') \n",
    "    driver = webdriver.Chrome(executable_path='chromedriver', options=options)\n",
    "\n",
    "    driver.get(url)\n",
    "\n",
    "    # wait for the page to load. adjust sleep here\n",
    "    # driver.implicitly_wait(10)\n",
    "    time.sleep(5)\n",
    "\n",
    "    html_content = driver.page_source\n",
    "\n",
    "    soup = BeautifulSoup(html_content, 'html.parser')\n",
    "\n",
    "    lis = soup.find_all('li', class_='experience-item')\n",
    "\n",
    "    modal_dismis = driver.find_element(By.CLASS_NAME, 'contextual-sign-in-modal__modal-dismiss')\n",
    "    if modal_dismis:\n",
    "        modal_dismis.click()\n",
    "\n",
    "    show_more_buttons = driver.find_elements(By.CLASS_NAME, 'show-more-less-text__button--more')\n",
    "\n",
    "    for button in show_more_buttons:\n",
    "        button.click()\n",
    "\n",
    "    for li in lis:\n",
    "        print(\"Experience\", lis.index(li))\n",
    "        description_more = ''\n",
    "        description_less = ''\n",
    "        \n",
    "        title = get_text(li.find('h3', class_='profile-section-card__title'))\n",
    "        company = get_text(li.find('h4', class_='profile-section-card__subtitle'))\n",
    "        location = get_text(li.find('p', class_='experience-item__location'))\n",
    "\n",
    "        # the class naming is weird in this case. Everything that has show more button will have --more\n",
    "        # modifier and everything else has --less modifier \n",
    "        description_more = get_text(li.find('p', class_='show-more-less-text__text--more'))\n",
    "        description_less = get_text(li.find('p', class_='show-more-less-text__text--less'))\n",
    "\n",
    "        if description_more:\n",
    "            description_list = get_duties(description_more)\n",
    "        elif description_less:\n",
    "            description_list = get_duties(description_less)\n",
    "        else:\n",
    "            description_list = []\n",
    "            \n",
    "        print(title)\n",
    "        print(company)\n",
    "        print(location)\n",
    "        print('Responsibilities: ')\n",
    "        for duty in description_list:\n",
    "            print(duty)\n",
    "        print('\\n')\n",
    "        \n",
    "    driver.quit()\n",
    "\n",
    "def get_text(element):\n",
    "    try:\n",
    "        return element.get_text().strip()\n",
    "    except Exception as e:\n",
    "        return ''\n",
    "    \n",
    "def get_duties(description):\n",
    "    # for some reason the button \"show less\" keeps popping up. Need to remove that\n",
    "    trimmed = description.replace('\\n            \\n\\n    \\n    \\n\\n    \\n        Show less', '')\n",
    "    return trimmed.split('• ')[1:]\n"
   ]
  },
  {
   "cell_type": "code",
   "execution_count": 302,
   "id": "7eb9df7f",
   "metadata": {},
   "outputs": [
    {
     "name": "stdout",
     "output_type": "stream",
     "text": [
      "Experience 0\n",
      "Front End Developer\n",
      "Expo Vente a Canadá\n",
      "\n",
      "Responsibilities: \n",
      "Implemented 10+ front end messaging features including localized timestamps, URL parsing, emoji support, modals and drawers, leveraging React Router for page routing. Improving chat accessibility by doubling the QoL features for users.\n",
      "Responsible for server support during a live event. Stayed in frequent contact with the client and provided updates on site health. Utilized AWS and Google analytics to ensure server load was sustainable, Docker containers were healthy and tracked site traffic metrics. Responsible for redeploying of site in the event of a crash.\n",
      "Reformatted existing front end architecture, removing 16,000+ lines of redundant data, reducing bundle size by more than 25%, resulting in improved responsiveness and performance metrics of over 20%.\n",
      "Handpicked by instructor from a pool of 50+ graduates to collaborate on the front end tickets written in Typescript and React.\n",
      "\n",
      "\n",
      "Experience 1\n",
      "Sports Coach - Youth Climbing\n",
      "Hive Bouldering Gym & Climbing\n",
      "Vancouver, British Columbia, Canada\n",
      "Responsibilities: \n",
      "Created fun and challenging bouldering programs tailored to suite youth climbers gearing for competition level climbing.\n",
      "Taught technique workshops and physical conditioning to enable our participants to compete at higher levels\n",
      "Fostered a positive and supportive learning environment to encourage growth and achievement\n",
      "Utilized communication and interpersonal skills to promote best practices, professionalism and conflict management within the team. \n",
      "Promoted and supported inclusivity, diversity and sportsmanship in the climbing community\n",
      "\n",
      "\n",
      "Experience 2\n",
      "Project Coordinator & Systems Automation\n",
      "TLG Millwerks Ltd\n",
      "Port Coquitlam, British Columbia, Canada\n",
      "Responsibilities: \n",
      "Created TLG Millwerks Ltd first project management system using Airtable including a 10,000+ item / $100,000+ inventory, current and historical data for 100+ projects with an annual $1.5m pipeline, a CRM for 50+ clients and vendors, and Gantt chart scheduling for a 10+ person team.\n",
      "Proactively sought system automation opportunities across multiple departments. Automated Gantt charts, project scheduling, material tracking and workflow automation via Slack API integration, reducing meetings and synchronous interaction by 10+ hours a week.\n",
      "Saw the potential to create more robust logic flows for the company while developing automation strategies and began learning Javascript asynchronously. This opened the door to a career in Software Engineering.\n",
      "A key member of business strategy meetings with senior management, collaborated on short and medium term goals such as team structure, project prioritization, customer communication and negotiation, annual schedule capacity.\n",
      "Responsible for junior project management duties of 10+ projects ranging from $50-100,000+ / 8-16+ weeks in scope. Acted as the main point of contact between customers, homeowners, contractors, site foreman and internal teams.\n",
      "\n",
      "\n"
     ]
    }
   ],
   "source": [
    "scrape_linkedin_profile('https://www.linkedin.com/in/jackcpalmer/')"
   ]
  },
  {
   "attachments": {},
   "cell_type": "markdown",
   "id": "58002000",
   "metadata": {},
   "source": [
    "**Using pypdf package**\n",
    "\n",
    "- Didn't work on Jek's email. Some of the spaces are not being extracted."
   ]
  },
  {
   "cell_type": "code",
   "execution_count": null,
   "id": "db43e27a",
   "metadata": {
    "scrolled": true
   },
   "outputs": [],
   "source": [
    "from pypdf import PdfReader\n",
    "\n",
    "reader = PdfReader(resume)\n",
    "number_of_pages = len(reader.pages)\n",
    "\n",
    "for page_number in range(number_of_pages):\n",
    "    page = reader.pages[page_number]\n",
    "    text = page.extract_text()\n",
    "    print(text)"
   ]
  },
  {
   "attachments": {},
   "cell_type": "markdown",
   "id": "8647ce12",
   "metadata": {},
   "source": [
    "**Using pyPDF2**\n",
    "\n",
    "- Didn't work on Jek's email. Some of the spaces are not being extracted."
   ]
  },
  {
   "cell_type": "code",
   "execution_count": null,
   "id": "95dce502",
   "metadata": {
    "scrolled": true
   },
   "outputs": [],
   "source": [
    "from PyPDF2 import PdfReader\n",
    "\n",
    "reader = PdfReader(resume, strict=True)\n",
    "number_of_pages = len(reader.pages)\n",
    "for page_number in range(number_of_pages):\n",
    "    page = reader.pages[page_number]\n",
    "    text = page.extract_text()\n",
    "    print(text)\n"
   ]
  }
 ],
 "metadata": {
  "kernelspec": {
   "display_name": "Python 3 (ipykernel)",
   "language": "python",
   "name": "python3"
  },
  "language_info": {
   "codemirror_mode": {
    "name": "ipython",
    "version": 3
   },
   "file_extension": ".py",
   "mimetype": "text/x-python",
   "name": "python",
   "nbconvert_exporter": "python",
   "pygments_lexer": "ipython3",
   "version": "3.8.10"
  }
 },
 "nbformat": 4,
 "nbformat_minor": 5
}
