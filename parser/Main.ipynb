{
 "cells": [
  {
   "cell_type": "code",
   "execution_count": 1,
   "id": "b1477247",
   "metadata": {},
   "outputs": [],
   "source": [
    "resume = \"./resumes/Jerick-Iquin.pdf\""
   ]
  },
  {
   "attachments": {},
   "cell_type": "markdown",
   "id": "58002000",
   "metadata": {},
   "source": [
    "**Using pypdf package**"
   ]
  },
  {
   "cell_type": "code",
   "execution_count": 2,
   "id": "db43e27a",
   "metadata": {},
   "outputs": [
    {
     "name": "stdout",
     "output_type": "stream",
     "text": [
      "Jerick Iquin\n",
      "FULL STACK DEVELOPER\n",
      "Surrey, BC, Canada\n",
      "+1 (778) 686-8688 | email |portfolio |jekiquin |jerick-iquin\n",
      "Experience\n",
      "BalloonBox Vancouver,BC\n",
      "FULL STACK DEVELOPER Apr2022-Feb2023\n",
      "•Architected and led front-end development of a cutting-edge web3 product that launched successfully under a tight deadline, driving our\n",
      "client’stotalstakedtokenamounttosoaraboveUS$800K\n",
      "•Spearheadedthedevelopmentofagame-changingextensionontopofourclient’sexistingproductarchitecture,enablingthemtodemoand\n",
      "markettheirofferingsinn-foldways\n",
      "•Ledfront-enddevelopmentofaB2Bplatformthatallowsnaturalresourceconsumers(manufacturers)tooffsettheircarbonimpactbyvirtually\n",
      "givingbacktocommunitiesaffectedbynaturalresourceextraction\n",
      "•Boosteduserapprovalrateforourclient’sdigitalwalletbytriple-digitpercentagepointsbyimplementingPlaidandOAuthforwalletauthen-\n",
      "tication\n",
      "•Reducedprojectsetupupby75%bybuildingfrontendcodebasetemplateandcarryingoutbestpracticesthroughstrictlintingrules\n",
      "•Mentoredjuniorcolleaguesthroughextensivecodereviewsandpairprogrammingsessions,helpingthemtogrowtheirskillsandconfidence\n",
      "KnockNow Vancouver,BC\n",
      "WEB DEVELOPER (CONTRACT) Jan2022-Apr2022\n",
      "•Ledateamofthreedevelopersinimprovingexistingwebapplication, optimizingbothfront-endandback-endservicestoensuretop-notch\n",
      "userexperience\n",
      "•LaunchedtherevampedlandingsitewiththesupportofUIdesigners,improvingbothvisualsandperformance\n",
      "YnahPantig-Freelance Vancouver,BC\n",
      "WEB DEVELOPER Dec2021-Mar2022\n",
      "•Expeditedwebsitedevelopmentbyprovidingcrucialsupporttoleaddeveloper,utilizingWordpressandPHPtodeliverresultsinrecordtime\n",
      "AquacousticRemoteTechnologies Vancouver,BC\n",
      "DATA PROCESSING AND QC TEAM LEADER Dec2014-Apr2021\n",
      "•Managedateamofthreedataprocessingtechniciansindeliveringhigh-qualityreportstovariousclients,meetingstrictdeadlinesandexceeding\n",
      "expectations\n",
      "•Increasedworkflowby40%byupgradingsoftwarewiththeassistanceofseniordevelopers,implementingtechniquestostreamlinedatapro-\n",
      "cessing\n",
      "•Ensured high levels of client satisfaction and repeat business by successfully improving and maintaining software to produce accurate and\n",
      "reliablereportsafterthedepartureofaseniordeveloper.\n",
      "Skills\n",
      "Proficient HTML,CSS,JavaScript,TypeScript,DOM,SASS,TailwindCSS,React,NextJS,Redux,Node,Express,Postgres,REST,Jest\n",
      "Exposed ReactNative,ReactTestingLibrary,Vue,Python,Mapbox,Web3,GraphQL,Docker\n",
      "Tools Git,NPM,Yarn,Jira,Linux\n",
      "Education\n",
      "BrainStation Vancouver,BC\n",
      "DIPLOMA IN WEB DEVELOPMENT Jul2021-Oct2021\n",
      "BritishColumbiaInstituteofTechnology Burnaby,BC\n",
      "DIPLOMA IN MECHATRONICS AND ROBOTICS TECHNOLOGY Sep2012-May2014\n",
      "UniversityofSantoTomas Manila,Philippines\n",
      "BACHELOR OF SCIENCE IN ELECTRONICS AND COMMUNICATIONS ENGINEERING Jun2004-Mar2010\n",
      "JERICK IQUIN\n"
     ]
    }
   ],
   "source": [
    "from pypdf import PdfReader\n",
    "\n",
    "reader = PdfReader(resume)\n",
    "number_of_pages = len(reader.pages)\n",
    "\n",
    "for page_number in range(number_of_pages):\n",
    "    page = reader.pages[page_number]\n",
    "    text = page.extract_text(space_width=11)\n",
    "    print(text)"
   ]
  },
  {
   "attachments": {},
   "cell_type": "markdown",
   "id": "8647ce12",
   "metadata": {},
   "source": [
    "**Using pyPDF2**"
   ]
  },
  {
   "cell_type": "code",
   "execution_count": 12,
   "id": "95dce502",
   "metadata": {},
   "outputs": [
    {
     "name": "stdout",
     "output_type": "stream",
     "text": [
      "Jerick Iquin\n",
      "FULL S\u0004Ô\u0004Á\u0004Ã\u0004Ë DEVEL\u0004Ï\u0004Ð\u0004Å\u0004Ò\n",
      "Surrey, BC, Canada\n",
      "+1 (778) 686-8688 | email |portfolio |jekiquin |jerick-iquin\n",
      "Experience\n",
      "BalloonBox Vancouver\u0001úBC\n",
      "FULL S\u0004Ô\u0004Á\u0004Ã\u0004Ë DE\u0004Ö\u0004Å\u0004Ì\u0004Ï\u0004Ð\u0004Å\u0004Ò Apr\u0001Ý\u0001Û\u0001Ý\u0001Ý\u0002\u000eFeb\u0001Ý\u0001Û\u0001Ý\u0001Þ\n",
      "\u0004ﬁArchitected and led front-end development of a cutting-edge web3 product that launched successfully under a tight deadline, driving our\n",
      "client’stotalstakedtokenamounttosoaraboveUS$800K\n",
      "\u0004ﬁSpearheadedthedevelopmentofagame-changingextensionontopofourclient’sexistingproductarchitecture,enablingthemtodemoand\n",
      "markettheirofferingsinn-foldways\n",
      "\u0004ﬁLedfront-enddevelopmentofaB2Bplatformthatallowsnaturalresourceconsumers(manufacturers)tooffsettheircarbonimpactbyvirtually\n",
      "givingbacktocommunitiesaffectedbynaturalresourceextraction\n",
      "\u0004ﬁBoosteduserapprovalrateforourclient’sdigitalwalletbytriple-digitpercentagepointsbyimplementingPlaidandOAuthforwalletauthen-\n",
      "tication\n",
      "\u0004ﬁReducedprojectsetupupby\u0004R\u0004P\u0006¿bybuildingfrontendcodebasetemplateandcarryingoutbestpracticesthroughstrictlintingrules\n",
      "\u0004ﬁMentoredjuniorcolleaguesthroughextensivecodereviewsandpairprogrammingsessions,helpingthemtogrowtheirskillsandconfidence\n",
      "KnockNow Vancouver\u0001úBC\n",
      "WEB DEVEL\u0004Ï\u0004Ð\u0004Å\u0004Ò (CONTR\u0004Á\u0004Ã\u0004Ô\u0004Ÿ Jan\u0001Ý\u0001Û\u0001Ý\u0001Ý\u0002\u000eApr\u0001Ý\u0001Û\u0001Ý\u0001Ý\n",
      "\u0004ﬁLedateamofthreedevelopersinimprovingexistingwebapplication, optimizingbothfront-endandback-endservicestoensuretop-notch\n",
      "userexperience\n",
      "\u0004ﬁLaunchedtherevampedlandingsitewiththesupportofUIdesigners,improvingbothvisualsandperformance\n",
      "YnahPantig\u0004−Freelance Vancouver\u0001úBC\n",
      "WEB DEVEL\u0004Ï\u0004Ð\u0004Å\u0004Ò Dec\u0001Ý\u0001Û\u0001Ý\u0001Ü\u0002\u000eMar\u0001Ý\u0001Û\u0001Ý\u0001Ý\n",
      "\u0004ﬁExpeditedwebsitedevelopmentbyprovidingcrucialsupporttoleaddeveloper\u0004vutilizingWordpressandPHPtodeliverresultsinrecordtime\n",
      "AquacousticRemoteTechnologies Vancouver\u0001úBC\n",
      "D\u0004Á\u0004Ô\u0004Á PROCES\u0004Ó\u0004É\u0004Î\u0004Ç \u0004Á\u0004Î\u0004Ä QC T\u0004Å\u0004Á\u0004Í LEADER Dec\u0001Ý\u0001Û\u0001Ü\u0001ß\u0002\u000eApr\u0001Ý\u0001Û\u0001Ý\u0001Ü\n",
      "\u0004ﬁManagedateamofthreedataprocessingtechniciansindeliveringhigh-qualityreportstovariousclients,meetingstrictdeadlinesandexceeding\n",
      "expectations\n",
      "\u0004ﬁIncreasedworkflowby\u0004O\u0004K\u0006¿byupgradingsoftwarewiththeassistanceofseniordevelopers,implementingtechniquestostreamlinedatapro\u0004−\n",
      "cessing\n",
      "\u0004ﬁEnsured high levels of client satisfaction and repeat business by successfully improving and maintaining software to produce accurate and\n",
      "reliablereportsafterthedepartureofaseniordeveloper\u0004u\n",
      "Skills\n",
      "Proficient HTML,CSS,JavaScript\u0004vTypeScript\u0004vDOM,SASS,TailwindCSS,React\u0004vNextJS,Redux\u0004vNode,Express,Postgres,REST\u0004vJest\n",
      "Exposed ReactNative,ReactTestingLibrary\u0004vVue,Python,Mapbox\u0004vWeb3,GraphQL,Docker\n",
      "Tools Git\u0004vNPM,Yarn,Jira,Linux\n",
      "Education\n",
      "BrainStation Vancouver\u0001úBC\n",
      "DIPL\u0004Ï\u0004Í\u0004Á \u0004É\u0004Î WEB DE\u0004Ö\u0004Å\u0004Ì\u0004Ï\u0004Ð\u0004Í\u0004Å\u0004Î\u0004Ô Jul\u0001Ý\u0001Û\u0001Ý\u0001Ü\u0002\u000eOct\u0001Ý\u0001Û\u0001Ý\u0001Ü\n",
      "BritishColumbiaInstituteofTechnology Burnaby\u0001úBC\n",
      "DIPL\u0004Ï\u0004Í\u0004Á \u0004É\u0004Î ME\u0004Ã\u0004È\u0004Á\u0004Ô\u0004Ò\u0004Ï\u0004Î\u0004É\u0004Ã\u0004Ó \u0004Á\u0004Î\u0004Ä R\u0004Ï\u0004Â\u0004Ï\u0004Ô\u0004É\u0004Ã\u0004Ó T\u0004Å\u0004Ã\u0004È\u0004Î\u0004Ï\u0004Ì\u0004Ï\u0004Ç\u0004Ù Sep\u0001Ý\u0001Û\u0001Ü\u0001Ý\u0002\u000eMay\u0001Ý\u0001Û\u0001Ü\u0001ß\n",
      "UniversityofSantoTomas Manila,Philippines\n",
      "B\u0004Á\u0004Ã\u0004È\u0004Å\u0004Ì\u0004Ï\u0004Ò \u0004Ï\u0004Æ S\u0004Ã\u0004É\u0004Å\u0004Î\u0004Ã\u0004Å \u0004É\u0004Î ELE\u0004Ã\u0004Ô\u0004Ò\u0004Ï\u0004Î\u0004É\u0004Ã\u0004Ó \u0004Á\u0004Î\u0004Ä COMMUNICA\u0004Ô\u0004É\u0004Ï\u0004Î\u0004Ó ENGINEERING Jun\u0001Ý\u0001Û\u0001Û\u0001ß\u0002\u000eMar\u0001Ý\u0001Û\u0001Ü\u0001Û\n",
      "JERICK IQUIN\n"
     ]
    }
   ],
   "source": [
    "from PyPDF2 import PdfReader\n",
    "\n",
    "reader = PdfReader(resume, strict=True)\n",
    "number_of_pages = len(reader.pages)\n",
    "for page_number in range(number_of_pages):\n",
    "    page = reader.pages[page_number]\n",
    "    text = page.extract_text()\n",
    "    print(text)\n"
   ]
  },
  {
   "cell_type": "code",
   "execution_count": null,
   "metadata": {},
   "outputs": [],
   "source": []
  }
 ],
 "metadata": {
  "kernelspec": {
   "display_name": "Python 3 (ipykernel)",
   "language": "python",
   "name": "python3"
  },
  "language_info": {
   "codemirror_mode": {
    "name": "ipython",
    "version": 3
   },
   "file_extension": ".py",
   "mimetype": "text/x-python",
   "name": "python",
   "nbconvert_exporter": "python",
   "pygments_lexer": "ipython3",
   "version": "3.8.10"
  }
 },
 "nbformat": 4,
 "nbformat_minor": 5
}
