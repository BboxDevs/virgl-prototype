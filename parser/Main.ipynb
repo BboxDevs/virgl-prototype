{
 "cells": [
  {
   "cell_type": "code",
   "execution_count": null,
   "id": "b1477247",
   "metadata": {},
   "outputs": [],
   "source": [
    "resume = \"./resumes/cw-resume-jv1.pdf\""
   ]
  },
  {
   "attachments": {},
   "cell_type": "markdown",
   "id": "b43855dd",
   "metadata": {},
   "source": [
    "**Using pdfminer.six**\n",
    "\n",
    "- Probably will use. Best so far"
   ]
  },
  {
   "cell_type": "code",
   "execution_count": 13,
   "id": "d8e94bb4",
   "metadata": {},
   "outputs": [
    {
     "name": "stdout",
     "output_type": "stream",
     "text": [
      "page_number 0\n",
      "Chris West\n",
      "\n",
      "(cid:131) 904-469-4104 # christinewwwest@gmail.com (cid:239) linkedin § github\n",
      "\n",
      "Technical Skills\n",
      "\n",
      "Working knowledge: Python, JS/TS, React, HTML/CSS, Tailwind, SQL, Git/GitHub, Linux, Firebase, Contentful CMS,\n",
      "Jira/Kanban\n",
      "Exposure: Ruby, C#, C, LaTex\n",
      "\n",
      "Experience\n",
      "\n",
      "McMaster University\n",
      "Web Developer, Contract\n",
      "\n",
      "Mar – Apr 2023\n",
      "Hamilton, ON\n",
      "• Developed and maintained a research facility website using React.js, SCSS, and Contentful CMS, utilizing Git and GitHub\n",
      "\n",
      "for version control and Jira with a Kanban board for collaboration.\n",
      "\n",
      "• Ensured website accessibility compliance with WCAG 2.1 guidelines, optimized website performance, and improved website\n",
      "\n",
      "visibility through SEO techniques.\n",
      "\n",
      "• Successfully launched the website on time and within budget, after conducting thorough testing for accessibility, SEO, and\n",
      "\n",
      "performance, resulting in positive feedback from users and stakeholders.\n",
      "\n",
      "CoLab\n",
      "Software Developer, Intern\n",
      "\n",
      "Oct 2022 – Jan 2023\n",
      "GTA, ON\n",
      "• Collaborated on an international cross-functional team to launch a live product using Agile methodologies, Trello boards,\n",
      "\n",
      "and weekly standups, working closely with a Product Manager, Product Designer, and Developers.\n",
      "\n",
      "• Developed product features using React and design tools such as Figma, based on requirements, design specifications, and\n",
      "\n",
      "user feedback.\n",
      "\n",
      "• Incorporated user feedback to improve the product’s features and functionality and participated in the final live demo of\n",
      "\n",
      "the project to stakeholders.\n",
      "\n",
      "Hamilton FHT\n",
      "Registered Dietitian\n",
      "\n",
      "Feb 2014 – Apr 2022\n",
      "Hamilton, ON\n",
      "\n",
      "• Provided nutrition counseling to individual patients, facilitated therapeutic group sessions, collaborated with the\n",
      "\n",
      "multidisciplinary team\n",
      "\n",
      "Abbott Nutrition\n",
      "Territory Manager\n",
      "\n",
      "Jun 2010 – Feb 2014\n",
      "Ontario\n",
      "• Serviced and trained healthcare providers across 1/3 of Ontario, engaged with professionals from various tiers of healthcare\n",
      "\n",
      "settings while effectively managing budgets and consistently achieving sales goals.\n",
      "\n",
      "Projects\n",
      "\n",
      "RxStar | github/RxStar | Python, React,PostGreSQL, AWS\n",
      "\n",
      "May - Present 2023\n",
      "\n",
      "• Developing a medication and food/drink interaction web app using React, Python, PostgreSQL, and AWS.\n",
      "• Implemented frontend UI components and backend APIs to facilitate medication and food/drink scheduling while avoiding\n",
      "\n",
      "interactions.\n",
      "\n",
      "• Integrated a drug interaction database/API, ensuring data security and collaborating with medical professionals to provide\n",
      "\n",
      "accurate information.\n",
      "\n",
      "NBRLYU | github/NBRLYU |React, Firebase, HTML/CSS\n",
      "\n",
      "Oct 2022 - Jan 2023\n",
      "\n",
      "• Developed a web application facilitating acts of kindness among neighbors, reducing loneliness and fostering community\n",
      "\n",
      "engagement.\n",
      "\n",
      "• Utilized technologies such as React, Firebase, and HTML/CSS to create a user-friendly interface for posting requests and\n",
      "\n",
      "offers of assistance.\n",
      "\n",
      "• Implemented features like notifications, user profiles, and activity tracking to enhance user experience and promote a sense\n",
      "\n",
      "of belonging within neighborhoods.\n",
      "\n",
      "Education\n",
      "\n",
      "Juno College\n",
      "Web Development Immersive Diploma\n",
      "\n",
      "Toronto Metropolitan University\n",
      "Bachelor of Science in Food and Nutrition\n",
      "\n",
      "Awards / Achievements\n",
      "\n",
      "Jun – Sep 2022\n",
      "Toronto, ON\n",
      "\n",
      "Sep 2002 – May 2005\n",
      "Toronto, ON\n",
      "\n",
      "• Publication: The Canadian Journal of Gastroenterology (Feb 2009)\n",
      "\n",
      "• Bronze Medal: Council for Continuing Pharmaceutical Education Accreditation (Sep 2011)\n",
      "\n",
      "\f\n"
     ]
    }
   ],
   "source": [
    "from pdfminer.high_level import extract_text, extract_pages\n",
    "\n",
    "pages = [x for x in extract_pages(resume)]\n",
    "\n",
    "for page in range(len(pages)):\n",
    "    print('page_number', page)\n",
    "    text = extract_text(resume, page_numbers=page)\n",
    "    print(text)\n"
   ]
  },
  {
   "attachments": {},
   "cell_type": "markdown",
   "id": "58002000",
   "metadata": {},
   "source": [
    "**Using pypdf package**\n",
    "\n",
    "- Didn't work on Jek's email. Some of the spaces are not being extracted."
   ]
  },
  {
   "cell_type": "code",
   "execution_count": null,
   "id": "db43e27a",
   "metadata": {
    "scrolled": true
   },
   "outputs": [],
   "source": [
    "from pypdf import PdfReader\n",
    "\n",
    "reader = PdfReader(resume)\n",
    "number_of_pages = len(reader.pages)\n",
    "\n",
    "for page_number in range(number_of_pages):\n",
    "    page = reader.pages[page_number]\n",
    "    text = page.extract_text()\n",
    "    print(text)"
   ]
  },
  {
   "attachments": {},
   "cell_type": "markdown",
   "id": "8647ce12",
   "metadata": {},
   "source": [
    "**Using pyPDF2**\n",
    "\n",
    "- Didn't work on Jek's email. Some of the spaces are not being extracted."
   ]
  },
  {
   "cell_type": "code",
   "execution_count": null,
   "id": "95dce502",
   "metadata": {
    "scrolled": true
   },
   "outputs": [],
   "source": [
    "from PyPDF2 import PdfReader\n",
    "\n",
    "reader = PdfReader(resume, strict=True)\n",
    "number_of_pages = len(reader.pages)\n",
    "for page_number in range(number_of_pages):\n",
    "    page = reader.pages[page_number]\n",
    "    text = page.extract_text()\n",
    "    print(text)\n"
   ]
  },
  {
   "cell_type": "code",
   "execution_count": null,
   "id": "2f9ea2ab",
   "metadata": {},
   "outputs": [],
   "source": []
  }
 ],
 "metadata": {
  "kernelspec": {
   "display_name": "Python 3 (ipykernel)",
   "language": "python",
   "name": "python3"
  },
  "language_info": {
   "codemirror_mode": {
    "name": "ipython",
    "version": 3
   },
   "file_extension": ".py",
   "mimetype": "text/x-python",
   "name": "python",
   "nbconvert_exporter": "python",
   "pygments_lexer": "ipython3",
   "version": "3.8.10"
  }
 },
 "nbformat": 4,
 "nbformat_minor": 5
}
