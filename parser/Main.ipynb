{
 "cells": [
  {
   "attachments": {},
   "cell_type": "markdown",
   "id": "479a9372",
   "metadata": {},
   "source": [
    "**Resumes**\n",
    "\n",
    "Sorry for downloading your resume. I need it for testing"
   ]
  },
  {
   "cell_type": "code",
   "execution_count": null,
   "id": "4813fdef",
   "metadata": {},
   "outputs": [],
   "source": [
    "resume = \"./resumes/cw-resume-jv1.pdf\""
   ]
  },
  {
   "cell_type": "code",
   "execution_count": null,
   "id": "8548b20c",
   "metadata": {},
   "outputs": [],
   "source": [
    "resume = \"./resumes/Jerick-Iquin.pdf\""
   ]
  },
  {
   "cell_type": "code",
   "execution_count": null,
   "id": "b1477247",
   "metadata": {},
   "outputs": [],
   "source": [
    "resume = \"./resumes/Kenneth Lee Resume.pdf\""
   ]
  },
  {
   "cell_type": "code",
   "execution_count": null,
   "id": "88b523ed",
   "metadata": {},
   "outputs": [],
   "source": [
    "resume = \"./resumes/Justin Lam - Resume - vPortfolio.pdf\""
   ]
  },
  {
   "attachments": {},
   "cell_type": "markdown",
   "id": "b43855dd",
   "metadata": {},
   "source": [
    "**Using pdfminer.six**\n",
    "\n",
    "- Probably will use. Best so far"
   ]
  },
  {
   "cell_type": "code",
   "execution_count": null,
   "id": "d8e94bb4",
   "metadata": {},
   "outputs": [],
   "source": [
    "from pdfminer.high_level import extract_text, extract_pages\n",
    "from pdfminer.layout import LAParams\n",
    "\n",
    "laparams = LAParams(line_margin=1)"
   ]
  },
  {
   "cell_type": "code",
   "execution_count": null,
   "id": "eb59e279",
   "metadata": {},
   "outputs": [],
   "source": [
    "# extract pages outputs an iterable so we can create list from it\n",
    "pages = [x for x in extract_pages(resume)]\n",
    "\n",
    "for page in range(len(pages)):\n",
    "    print('page_number', page)\n",
    "    text = extract_text(resume, page_numbers=page, laparams=laparams)\n",
    "    print(text)"
   ]
  },
  {
   "attachments": {},
   "cell_type": "markdown",
   "id": "a37ae6ff",
   "metadata": {},
   "source": [
    "**Testing Beautiful Soup**\n",
    "\n",
    "This is to do webscraping of your linkedin profile\n",
    "\n",
    "- Linkedin detects automated scraping and blocks requests\n",
    "- Need to install chrome and chromedriver\n",
    "- Issue with linkedin possibly blocking webscraping\n",
    "- Will have different classnames when actually loggedin\n",
    "- Possibly go for linkedin api?"
   ]
  },
  {
   "cell_type": "code",
   "execution_count": 308,
   "id": "bec03a79",
   "metadata": {},
   "outputs": [],
   "source": [
    "from selenium import webdriver\n",
    "from selenium.webdriver.chrome.options import Options\n",
    "from selenium.webdriver.common.by import By\n",
    "from bs4 import BeautifulSoup\n",
    "import time\n",
    "\n",
    "def scrape_linkedin_profile(url):\n",
    "    options = Options()\n",
    "    # running in headless mode\n",
    "    options.add_argument('--headless') \n",
    "    driver = webdriver.Chrome(executable_path='chromedriver', options=options)\n",
    "\n",
    "    driver.get(url)\n",
    "\n",
    "    # wait for the page to load. adjust sleep here\n",
    "    # driver.implicitly_wait(10)\n",
    "    time.sleep(5)\n",
    "\n",
    "    html_content = driver.page_source\n",
    "\n",
    "    soup = BeautifulSoup(html_content, 'html.parser')\n",
    "\n",
    "    lis = soup.find_all('li', class_='experience-item')\n",
    "\n",
    "    try:\n",
    "        modal_dismis = driver.find_element(By.CLASS_NAME, 'contextual-sign-in-modal__modal-dismiss')\n",
    "        if modal_dismis:\n",
    "            modal_dismis.click()\n",
    "    except Exception:\n",
    "        print('Already opened')\n",
    "\n",
    "\n",
    "    show_more_buttons = driver.find_elements(By.CLASS_NAME, 'show-more-less-text__button--more')\n",
    "\n",
    "    for button in show_more_buttons:\n",
    "        button.click()\n",
    "\n",
    "    for li in lis:\n",
    "        print(\"Experience\", lis.index(li))\n",
    "        description_more = ''\n",
    "        description_less = ''\n",
    "        \n",
    "        title = get_text(li.find('h3', class_='profile-section-card__title'))\n",
    "        company = get_text(li.find('h4', class_='profile-section-card__subtitle'))\n",
    "        location = get_text(li.find('p', class_='experience-item__location'))\n",
    "\n",
    "        # the class naming is weird in this case. Everything that has show more button will have --more\n",
    "        # modifier and everything else has --less modifier \n",
    "        description_more = get_text(li.find('p', class_='show-more-less-text__text--more'))\n",
    "        description_less = get_text(li.find('p', class_='show-more-less-text__text--less'))\n",
    "\n",
    "        if description_more:\n",
    "            description_list = get_duties(description_more)\n",
    "        elif description_less:\n",
    "            description_list = get_duties(description_less)\n",
    "        else:\n",
    "            description_list = []\n",
    "            \n",
    "        print(title)\n",
    "        print(company)\n",
    "        print(location)\n",
    "        print('Responsibilities: ')\n",
    "        for duty in description_list:\n",
    "            print(duty)\n",
    "        print('\\n')\n",
    "        \n",
    "    driver.quit()\n",
    "\n",
    "def get_text(element):\n",
    "    try:\n",
    "        return element.get_text().strip()\n",
    "    except Exception as e:\n",
    "        return ''\n",
    "    \n",
    "def get_duties(description):\n",
    "    # for some reason the button \"show less\" keeps popping up. Need to remove that\n",
    "    trimmed = description.replace('\\n            \\n\\n    \\n    \\n\\n    \\n        Show less', '')\n",
    "    return trimmed.split('• ')[1:]\n"
   ]
  },
  {
   "cell_type": "code",
   "execution_count": 312,
   "id": "7eb9df7f",
   "metadata": {},
   "outputs": [
    {
     "name": "stdout",
     "output_type": "stream",
     "text": [
      "Experience 0\n",
      "Full Stack Software Engineer\n",
      "Singularity Future Technology Ltd.\n",
      "\n",
      "Responsibilities: \n",
      "\n",
      "\n",
      "Experience 1\n",
      "Loan Officer\n",
      "Bank of England Mortgage\n",
      "\n",
      "Responsibilities: \n",
      "\n",
      "\n",
      "Experience 2\n",
      "Loan Officer\n",
      "Sterling Bank & Trust, FSB\n",
      "\n",
      "Responsibilities: \n",
      "\n",
      "\n",
      "Experience 3\n",
      "Loan Officer\n",
      "First American International Bank\n",
      "\n",
      "Responsibilities: \n",
      "\n",
      "\n"
     ]
    }
   ],
   "source": [
    "scrape_linkedin_profile('https://www.linkedin.com/in/kenneth-lee-software-engineer/')"
   ]
  },
  {
   "attachments": {},
   "cell_type": "markdown",
   "id": "58002000",
   "metadata": {},
   "source": [
    "**Using pypdf package**\n",
    "\n",
    "- Didn't work on Jek's email. Some of the spaces are not being extracted."
   ]
  },
  {
   "cell_type": "code",
   "execution_count": null,
   "id": "db43e27a",
   "metadata": {
    "scrolled": true
   },
   "outputs": [],
   "source": [
    "from pypdf import PdfReader\n",
    "\n",
    "reader = PdfReader(resume)\n",
    "number_of_pages = len(reader.pages)\n",
    "\n",
    "for page_number in range(number_of_pages):\n",
    "    page = reader.pages[page_number]\n",
    "    text = page.extract_text()\n",
    "    print(text)"
   ]
  },
  {
   "attachments": {},
   "cell_type": "markdown",
   "id": "8647ce12",
   "metadata": {},
   "source": [
    "**Using pyPDF2**\n",
    "\n",
    "- Didn't work on Jek's email. Some of the spaces are not being extracted."
   ]
  },
  {
   "cell_type": "code",
   "execution_count": null,
   "id": "95dce502",
   "metadata": {
    "scrolled": true
   },
   "outputs": [],
   "source": [
    "from PyPDF2 import PdfReader\n",
    "\n",
    "reader = PdfReader(resume, strict=True)\n",
    "number_of_pages = len(reader.pages)\n",
    "for page_number in range(number_of_pages):\n",
    "    page = reader.pages[page_number]\n",
    "    text = page.extract_text()\n",
    "    print(text)\n"
   ]
  }
 ],
 "metadata": {
  "kernelspec": {
   "display_name": "Python 3 (ipykernel)",
   "language": "python",
   "name": "python3"
  },
  "language_info": {
   "codemirror_mode": {
    "name": "ipython",
    "version": 3
   },
   "file_extension": ".py",
   "mimetype": "text/x-python",
   "name": "python",
   "nbconvert_exporter": "python",
   "pygments_lexer": "ipython3",
   "version": "3.8.10"
  }
 },
 "nbformat": 4,
 "nbformat_minor": 5
}
